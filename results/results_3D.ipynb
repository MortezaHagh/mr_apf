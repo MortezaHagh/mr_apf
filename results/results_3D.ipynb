{
 "cells": [
  {
   "cell_type": "code",
   "execution_count": 1,
   "id": "4a77d2a6",
   "metadata": {},
   "outputs": [],
   "source": [
    "# Multi-Robot APF Results Analysis\n",
    "# This notebook analyzes the performance results from different test configurations"
   ]
  },
  {
   "cell_type": "code",
   "execution_count": 2,
   "id": "446ab868",
   "metadata": {},
   "outputs": [],
   "source": [
    "import json\n",
    "import pandas as pd\n",
    "import numpy as np\n",
    "import os\n",
    "from pathlib import Path\n",
    "import matplotlib.pyplot as plt\n",
    "# import seaborn as sns\n",
    "from typing import Dict, List, Any\n",
    "\n",
    "# Set up plotting style\n",
    "plt.style.use('default')\n",
    "# sns.set_palette(\"husl\")\n",
    "pd.set_option('display.max_columns', None)\n",
    "pd.set_option('display.width', None)"
   ]
  },
  {
   "cell_type": "code",
   "execution_count": 3,
   "id": "f90189b8",
   "metadata": {},
   "outputs": [],
   "source": [
    "def load_all_results(base_dir: str = '.') -> pd.DataFrame:\n",
    "    results = []\n",
    "    base_path = Path(base_dir)\n",
    "\n",
    "    # Find all res.json files in subdirectories\n",
    "    for json_file in base_path.rglob('res.json'):\n",
    "        try:\n",
    "            with open(json_file, 'r') as f:\n",
    "                data = json.load(f)\n",
    "\n",
    "            # Add folder name for reference\n",
    "            data['folder_name'] = json_file.parent.name\n",
    "            results.append(data)\n",
    "            # print(f\"Loaded: {json_file}\")\n",
    "\n",
    "        except Exception as e:\n",
    "            print(f\"Error loading {json_file}: {e}\")\n",
    "\n",
    "    if not results:\n",
    "        print(\"No res.json files found!\")\n",
    "        return pd.DataFrame()\n",
    "\n",
    "    df = pd.DataFrame(results)\n",
    "\n",
    "    # #\n",
    "    # print(f\"\\nLoaded {len(df)} result files\")\n",
    "    # print(f\"Columns: {list(df.columns)}\")\n",
    "\n",
    "    return df"
   ]
  },
  {
   "cell_type": "code",
   "execution_count": 4,
   "id": "3bd6065a",
   "metadata": {},
   "outputs": [],
   "source": [
    "def refine_dataframe(df: pd.DataFrame) -> pd.DataFrame:\n",
    "    # Drop rows with nD == 2D\n",
    "    df = df[df['nD'] != '2D']\n",
    "\n",
    "    # Only keep relevant columns\n",
    "    relevant_columns = ['map_id', 'n_robots', 'method', 'operation_time', 'total_length']\n",
    "    df = df[relevant_columns]\n",
    "\n",
    "    return df"
   ]
  },
  {
   "cell_type": "code",
   "execution_count": 5,
   "id": "c334a45c",
   "metadata": {},
   "outputs": [],
   "source": [
    "# group by map_id and create tables for each map\n",
    "def map_tables(df: pd.DataFrame) -> Dict[str, pd.DataFrame]:\n",
    "    tables = {}\n",
    "    for map_id, map_data in df.groupby('map_id'):\n",
    "        tables[map_id] = map_data\n",
    "    return tables"
   ]
  },
  {
   "cell_type": "code",
   "execution_count": 6,
   "id": "46f3b861",
   "metadata": {},
   "outputs": [],
   "source": [
    "def create_performance_tables(tables: Dict[str, pd.DataFrame], metric: str) -> Dict[int, pd.DataFrame]:\n",
    "    #  create table from df (which is for a specific map), columns are n_robots, index are methods, values are metric\n",
    "    p_tables = {}\n",
    "    for i, df in tables.items():\n",
    "        table = df.pivot_table(index='method', columns='n_robots', values=metric, aggfunc=np.mean)\n",
    "        p_tables[i] = table\n",
    "    return p_tables"
   ]
  },
  {
   "cell_type": "code",
   "execution_count": 7,
   "id": "f6b4d3bd",
   "metadata": {},
   "outputs": [
    {
     "data": {
      "text/html": [
       "<div>\n",
       "<style scoped>\n",
       "    .dataframe tbody tr th:only-of-type {\n",
       "        vertical-align: middle;\n",
       "    }\n",
       "\n",
       "    .dataframe tbody tr th {\n",
       "        vertical-align: top;\n",
       "    }\n",
       "\n",
       "    .dataframe thead th {\n",
       "        text-align: right;\n",
       "    }\n",
       "</style>\n",
       "<table border=\"1\" class=\"dataframe\">\n",
       "  <thead>\n",
       "    <tr style=\"text-align: right;\">\n",
       "      <th></th>\n",
       "      <th>map_id</th>\n",
       "      <th>n_robots</th>\n",
       "      <th>method</th>\n",
       "      <th>operation_time</th>\n",
       "      <th>total_length</th>\n",
       "    </tr>\n",
       "  </thead>\n",
       "  <tbody>\n",
       "    <tr>\n",
       "      <th>4</th>\n",
       "      <td>1</td>\n",
       "      <td>4</td>\n",
       "      <td>1</td>\n",
       "      <td>80.75</td>\n",
       "      <td>21.67</td>\n",
       "    </tr>\n",
       "    <tr>\n",
       "      <th>5</th>\n",
       "      <td>1</td>\n",
       "      <td>4</td>\n",
       "      <td>2</td>\n",
       "      <td>47.25</td>\n",
       "      <td>20.68</td>\n",
       "    </tr>\n",
       "    <tr>\n",
       "      <th>6</th>\n",
       "      <td>1</td>\n",
       "      <td>3</td>\n",
       "      <td>2</td>\n",
       "      <td>44.14</td>\n",
       "      <td>16.51</td>\n",
       "    </tr>\n",
       "    <tr>\n",
       "      <th>7</th>\n",
       "      <td>1</td>\n",
       "      <td>3</td>\n",
       "      <td>1</td>\n",
       "      <td>75.83</td>\n",
       "      <td>17.17</td>\n",
       "    </tr>\n",
       "  </tbody>\n",
       "</table>\n",
       "</div>"
      ],
      "text/plain": [
       "   map_id  n_robots  method  operation_time  total_length\n",
       "4       1         4       1           80.75         21.67\n",
       "5       1         4       2           47.25         20.68\n",
       "6       1         3       2           44.14         16.51\n",
       "7       1         3       1           75.83         17.17"
      ]
     },
     "execution_count": 7,
     "metadata": {},
     "output_type": "execute_result"
    }
   ],
   "source": [
    "# Load all results\n",
    "df_all = load_all_results('./tests')\n",
    "df_all = refine_dataframe(df_all)\n",
    "df_all.head(5)"
   ]
  },
  {
   "cell_type": "code",
   "execution_count": 8,
   "id": "5a65613b",
   "metadata": {},
   "outputs": [
    {
     "name": "stdout",
     "output_type": "stream",
     "text": [
      "\n",
      "Performance Table for Map ID: 1\n"
     ]
    },
    {
     "data": {
      "text/html": [
       "<div>\n",
       "<style scoped>\n",
       "    .dataframe tbody tr th:only-of-type {\n",
       "        vertical-align: middle;\n",
       "    }\n",
       "\n",
       "    .dataframe tbody tr th {\n",
       "        vertical-align: top;\n",
       "    }\n",
       "\n",
       "    .dataframe thead th {\n",
       "        text-align: right;\n",
       "    }\n",
       "</style>\n",
       "<table border=\"1\" class=\"dataframe\">\n",
       "  <thead>\n",
       "    <tr style=\"text-align: right;\">\n",
       "      <th>n_robots</th>\n",
       "      <th>3</th>\n",
       "      <th>4</th>\n",
       "    </tr>\n",
       "    <tr>\n",
       "      <th>method</th>\n",
       "      <th></th>\n",
       "      <th></th>\n",
       "    </tr>\n",
       "  </thead>\n",
       "  <tbody>\n",
       "    <tr>\n",
       "      <th>1</th>\n",
       "      <td>75.83</td>\n",
       "      <td>80.75</td>\n",
       "    </tr>\n",
       "    <tr>\n",
       "      <th>2</th>\n",
       "      <td>44.14</td>\n",
       "      <td>47.25</td>\n",
       "    </tr>\n",
       "  </tbody>\n",
       "</table>\n",
       "</div>"
      ],
      "text/plain": [
       "n_robots      3      4\n",
       "method                \n",
       "1         75.83  80.75\n",
       "2         44.14  47.25"
      ]
     },
     "metadata": {},
     "output_type": "display_data"
    }
   ],
   "source": [
    "#\n",
    "tables = map_tables(df_all)\n",
    "tables = create_performance_tables(tables, metric='operation_time')\n",
    "for map_id, table in tables.items():\n",
    "    print(f\"\\nPerformance Table for Map ID: {map_id}\")\n",
    "    display(table)"
   ]
  },
  {
   "cell_type": "code",
   "execution_count": 9,
   "id": "4a39473a",
   "metadata": {},
   "outputs": [],
   "source": [
    "# def analyze_method_performance(df: pd.DataFrame):\n",
    "#     \"\"\"\n",
    "#     Detailed analysis of method performance\n",
    "#     \"\"\"\n",
    "#     print(\"=== METHOD PERFORMANCE ANALYSIS ===\\n\")\n",
    "\n",
    "#     for map_id in sorted(df['map_id'].unique()):\n",
    "#         map_data = df[df['map_id'] == map_id]\n",
    "#         print(f\"MAP {map_id} Analysis:\")\n",
    "#         print(\"-\" * 30)\n",
    "\n",
    "#         # Best method for each metric and robot count\n",
    "#         metrics = ['operation_time', 'total_length']\n",
    "\n",
    "#         for n_robots in sorted(map_data['n_robots'].unique()):\n",
    "#             robot_data = map_data[map_data['n_robots'] == n_robots]\n",
    "#             print(f\"\\n  {n_robots} Robots:\")\n",
    "\n",
    "#             for metric in metrics:\n",
    "#                 if metric in robot_data.columns:\n",
    "#                     best_method = robot_data.loc[robot_data[metric].idxmin(), 'method']\n",
    "#                     best_value = robot_data[metric].min()\n",
    "#                     worst_value = robot_data[metric].max()\n",
    "#                     improvement = ((worst_value - best_value) / worst_value * 100)\n",
    "\n",
    "#                     print(f\"    {metric}: Method {best_method} (Best: {best_value:.2f}, \"\n",
    "#                           f\"Improvement: {improvement:.1f}%)\")\n",
    "\n",
    "#         print(\"\\n\" + \"=\"*50 + \"\\n\")\n",
    "\n",
    "\n",
    "# # Analyze method performance\n",
    "# analyze_method_performance(df_all)"
   ]
  }
 ],
 "metadata": {
  "kernelspec": {
   "display_name": "Python 3",
   "language": "python",
   "name": "python3"
  },
  "language_info": {
   "codemirror_mode": {
    "name": "ipython",
    "version": 3
   },
   "file_extension": ".py",
   "mimetype": "text/x-python",
   "name": "python",
   "nbconvert_exporter": "python",
   "pygments_lexer": "ipython3",
   "version": "3.8.10"
  }
 },
 "nbformat": 4,
 "nbformat_minor": 5
}
