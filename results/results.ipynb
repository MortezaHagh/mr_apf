{
 "cells": [
  {
   "cell_type": "code",
   "execution_count": 22,
   "id": "c5c07f6f",
   "metadata": {},
   "outputs": [],
   "source": [
    "# Multi-Robot APF Results Analysis\n",
    "# This notebook analyzes the performance results from different test configurations"
   ]
  },
  {
   "cell_type": "code",
   "execution_count": 23,
   "id": "41aedeef",
   "metadata": {},
   "outputs": [],
   "source": [
    "from results_report import *"
   ]
  },
  {
   "cell_type": "code",
   "execution_count": 24,
   "id": "101409b3",
   "metadata": {},
   "outputs": [
    {
     "name": "stdout",
     "output_type": "stream",
     "text": [
      "\n",
      "Performance Table for Map ID: 1\n"
     ]
    },
    {
     "data": {
      "text/html": [
       "<div>\n",
       "<style scoped>\n",
       "    .dataframe tbody tr th:only-of-type {\n",
       "        vertical-align: middle;\n",
       "    }\n",
       "\n",
       "    .dataframe tbody tr th {\n",
       "        vertical-align: top;\n",
       "    }\n",
       "\n",
       "    .dataframe thead th {\n",
       "        text-align: right;\n",
       "    }\n",
       "</style>\n",
       "<table border=\"1\" class=\"dataframe\">\n",
       "  <thead>\n",
       "    <tr style=\"text-align: right;\">\n",
       "      <th>n_robots</th>\n",
       "      <th>4</th>\n",
       "      <th>5</th>\n",
       "      <th>6</th>\n",
       "      <th>7</th>\n",
       "      <th>8</th>\n",
       "      <th>9</th>\n",
       "      <th>10</th>\n",
       "      <th>11</th>\n",
       "      <th>12</th>\n",
       "      <th>13</th>\n",
       "      <th>14</th>\n",
       "      <th>15</th>\n",
       "    </tr>\n",
       "  </thead>\n",
       "  <tbody>\n",
       "    <tr>\n",
       "      <th>44</th>\n",
       "      <td>46.82</td>\n",
       "      <td>27.94</td>\n",
       "      <td>24.69</td>\n",
       "      <td>26.64</td>\n",
       "      <td>25.9</td>\n",
       "      <td>30.7</td>\n",
       "      <td>51.35</td>\n",
       "      <td>25.72</td>\n",
       "      <td>28.8</td>\n",
       "      <td>36.20</td>\n",
       "      <td>43.10</td>\n",
       "      <td>40.89</td>\n",
       "    </tr>\n",
       "    <tr>\n",
       "      <th>55</th>\n",
       "      <td>NaN</td>\n",
       "      <td>NaN</td>\n",
       "      <td>NaN</td>\n",
       "      <td>NaN</td>\n",
       "      <td>NaN</td>\n",
       "      <td>NaN</td>\n",
       "      <td>NaN</td>\n",
       "      <td>NaN</td>\n",
       "      <td>NaN</td>\n",
       "      <td>59.93</td>\n",
       "      <td>31.19</td>\n",
       "      <td>38.08</td>\n",
       "    </tr>\n",
       "    <tr>\n",
       "      <th>Best Method</th>\n",
       "      <td>44.00</td>\n",
       "      <td>44.00</td>\n",
       "      <td>44.00</td>\n",
       "      <td>44.00</td>\n",
       "      <td>44.0</td>\n",
       "      <td>44.0</td>\n",
       "      <td>44.00</td>\n",
       "      <td>44.00</td>\n",
       "      <td>44.0</td>\n",
       "      <td>44.00</td>\n",
       "      <td>55.00</td>\n",
       "      <td>55.00</td>\n",
       "    </tr>\n",
       "  </tbody>\n",
       "</table>\n",
       "</div>"
      ],
      "text/plain": [
       "n_robots        4      5      6      7     8     9      10     11    12  \\\n",
       "44           46.82  27.94  24.69  26.64  25.9  30.7  51.35  25.72  28.8   \n",
       "55             NaN    NaN    NaN    NaN   NaN   NaN    NaN    NaN   NaN   \n",
       "Best Method  44.00  44.00  44.00  44.00  44.0  44.0  44.00  44.00  44.0   \n",
       "\n",
       "n_robots        13     14     15  \n",
       "44           36.20  43.10  40.89  \n",
       "55           59.93  31.19  38.08  \n",
       "Best Method  44.00  55.00  55.00  "
      ]
     },
     "metadata": {},
     "output_type": "display_data"
    }
   ],
   "source": [
    "#\n",
    "tables = get_performance_tables(path='./tests', nd='2D', metric='operation_time')\n",
    "\n",
    "for map_id, table in tables.items():\n",
    "    # add a row in wich number of the best method for each n_robots is shown\n",
    "    best_methods = table.idxmin(axis=0)\n",
    "    best_row = pd.DataFrame(best_methods).T\n",
    "    best_row.index = ['Best Method']\n",
    "    table = pd.concat([table, best_row])\n",
    "    # Display the updated table\n",
    "    print(f\"\\nPerformance Table for Map ID: {map_id}\")\n",
    "    display(table)"
   ]
  },
  {
   "cell_type": "code",
   "execution_count": 25,
   "id": "94865175",
   "metadata": {},
   "outputs": [
    {
     "data": {
      "text/plain": [
       "nan"
      ]
     },
     "execution_count": 25,
     "metadata": {},
     "output_type": "execute_result"
    }
   ],
   "source": [
    "# row 55 - row 44\n",
    "# first row in tables[1]\n",
    "a = tables[1].loc[55] - tables[1].loc[44]\n",
    "np.sum(a.values)"
   ]
  },
  {
   "cell_type": "markdown",
   "id": "2bc4c25a",
   "metadata": {},
   "source": [
    "2198.0"
   ]
  }
 ],
 "metadata": {
  "kernelspec": {
   "display_name": "Python 3",
   "language": "python",
   "name": "python3"
  },
  "language_info": {
   "codemirror_mode": {
    "name": "ipython",
    "version": 3
   },
   "file_extension": ".py",
   "mimetype": "text/x-python",
   "name": "python",
   "nbconvert_exporter": "python",
   "pygments_lexer": "ipython3",
   "version": "3.8.10"
  }
 },
 "nbformat": 4,
 "nbformat_minor": 5
}
